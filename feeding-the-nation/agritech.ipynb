{
 "cells": [
  {
   "cell_type": "code",
   "execution_count": 1,
   "id": "2fb22364",
   "metadata": {},
   "outputs": [
    {
     "name": "stderr",
     "output_type": "stream",
     "text": [
      "/Users/owner/.pyenv/versions/3.9.7/lib/python3.9/site-packages/pandas/compat/__init__.py:124: UserWarning: Could not import the lzma module. Your installed Python is incomplete. Attempting to use lzma compression will result in a RuntimeError.\n",
      "  warnings.warn(msg)\n"
     ]
    }
   ],
   "source": [
    "import pandas as pd\n",
    "pd.set_option('max_columns', None)\n",
    "from plotnine import *"
   ]
  },
  {
   "cell_type": "code",
   "execution_count": 2,
   "id": "ccfea2ea",
   "metadata": {},
   "outputs": [],
   "source": [
    "#Data from CBInsights database of Agritech startups\n",
    "df = pd.read_csv('all_csv/new_agtech.csv')"
   ]
  },
  {
   "cell_type": "code",
   "execution_count": 3,
   "id": "f00c263d",
   "metadata": {
    "scrolled": true
   },
   "outputs": [],
   "source": [
    "#replace all Nan values under 'total funding' with zero. \n",
    "df['funding']= df['funding'].fillna(0)\n"
   ]
  },
  {
   "cell_type": "code",
   "execution_count": 4,
   "id": "41ebcec3",
   "metadata": {},
   "outputs": [
    {
     "data": {
      "text/html": [
       "<div>\n",
       "<style scoped>\n",
       "    .dataframe tbody tr th:only-of-type {\n",
       "        vertical-align: middle;\n",
       "    }\n",
       "\n",
       "    .dataframe tbody tr th {\n",
       "        vertical-align: top;\n",
       "    }\n",
       "\n",
       "    .dataframe thead th {\n",
       "        text-align: right;\n",
       "    }\n",
       "</style>\n",
       "<table border=\"1\" class=\"dataframe\">\n",
       "  <thead>\n",
       "    <tr style=\"text-align: right;\">\n",
       "      <th></th>\n",
       "      <th>companies</th>\n",
       "      <th>expert_tag</th>\n",
       "      <th>farm_segment</th>\n",
       "      <th>solution_focus</th>\n",
       "      <th>funding</th>\n",
       "      <th>country</th>\n",
       "    </tr>\n",
       "  </thead>\n",
       "  <tbody>\n",
       "    <tr>\n",
       "      <th>0</th>\n",
       "      <td>VoidBrains</td>\n",
       "      <td>AppliedSensorNetworks</td>\n",
       "      <td>NaN</td>\n",
       "      <td>NaN</td>\n",
       "      <td>0.0</td>\n",
       "      <td>NaN</td>\n",
       "    </tr>\n",
       "    <tr>\n",
       "      <th>1</th>\n",
       "      <td>Visioneering Systems, Inc.</td>\n",
       "      <td>AppliedSensorNetworks</td>\n",
       "      <td>Multi-faceted</td>\n",
       "      <td>NaN</td>\n",
       "      <td>0.0</td>\n",
       "      <td>NaN</td>\n",
       "    </tr>\n",
       "    <tr>\n",
       "      <th>2</th>\n",
       "      <td>Carbon Farmed</td>\n",
       "      <td>NaN</td>\n",
       "      <td>Multi-faceted</td>\n",
       "      <td>Business Planning &amp; Finance</td>\n",
       "      <td>0.0</td>\n",
       "      <td>NaN</td>\n",
       "    </tr>\n",
       "    <tr>\n",
       "      <th>3</th>\n",
       "      <td>Superbrewed Food</td>\n",
       "      <td>NaN</td>\n",
       "      <td>Livestock, Poultry, &amp; eats</td>\n",
       "      <td>Biotech</td>\n",
       "      <td>0.0</td>\n",
       "      <td>NaN</td>\n",
       "    </tr>\n",
       "    <tr>\n",
       "      <th>4</th>\n",
       "      <td>Kapsera</td>\n",
       "      <td>NaN</td>\n",
       "      <td>Crops</td>\n",
       "      <td>Biotech</td>\n",
       "      <td>0.0</td>\n",
       "      <td>NaN</td>\n",
       "    </tr>\n",
       "  </tbody>\n",
       "</table>\n",
       "</div>"
      ],
      "text/plain": [
       "                    companies             expert_tag  \\\n",
       "0                  VoidBrains  AppliedSensorNetworks   \n",
       "1  Visioneering Systems, Inc.  AppliedSensorNetworks   \n",
       "2               Carbon Farmed                    NaN   \n",
       "3            Superbrewed Food                    NaN   \n",
       "4                     Kapsera                    NaN   \n",
       "\n",
       "                 farm_segment               solution_focus  funding country  \n",
       "0                         NaN                          NaN      0.0     NaN  \n",
       "1               Multi-faceted                          NaN      0.0     NaN  \n",
       "2               Multi-faceted  Business Planning & Finance      0.0     NaN  \n",
       "3  Livestock, Poultry, & eats                      Biotech      0.0     NaN  \n",
       "4                       Crops                      Biotech      0.0     NaN  "
      ]
     },
     "execution_count": 4,
     "metadata": {},
     "output_type": "execute_result"
    }
   ],
   "source": [
    "df.head()\n"
   ]
  },
  {
   "cell_type": "code",
   "execution_count": 5,
   "id": "fddfabeb",
   "metadata": {},
   "outputs": [
    {
     "data": {
      "text/plain": [
       "1842"
      ]
     },
     "execution_count": 5,
     "metadata": {},
     "output_type": "execute_result"
    }
   ],
   "source": [
    "#How many companies are there?\n",
    "df.companies.count()"
   ]
  },
  {
   "cell_type": "code",
   "execution_count": 6,
   "id": "78cabf87",
   "metadata": {},
   "outputs": [
    {
     "data": {
      "text/plain": [
       "40997.86"
      ]
     },
     "execution_count": 6,
     "metadata": {},
     "output_type": "execute_result"
    }
   ],
   "source": [
    "#How much in funding in total?\n",
    "df.funding.sum()"
   ]
  },
  {
   "cell_type": "code",
   "execution_count": 7,
   "id": "a964f4e4",
   "metadata": {},
   "outputs": [
    {
     "data": {
      "text/html": [
       "<div>\n",
       "<style scoped>\n",
       "    .dataframe tbody tr th:only-of-type {\n",
       "        vertical-align: middle;\n",
       "    }\n",
       "\n",
       "    .dataframe tbody tr th {\n",
       "        vertical-align: top;\n",
       "    }\n",
       "\n",
       "    .dataframe thead th {\n",
       "        text-align: right;\n",
       "    }\n",
       "</style>\n",
       "<table border=\"1\" class=\"dataframe\">\n",
       "  <thead>\n",
       "    <tr style=\"text-align: right;\">\n",
       "      <th></th>\n",
       "      <th>country</th>\n",
       "      <th>iso_code</th>\n",
       "      <th>continent</th>\n",
       "    </tr>\n",
       "  </thead>\n",
       "  <tbody>\n",
       "    <tr>\n",
       "      <th>0</th>\n",
       "      <td>Afghanistan</td>\n",
       "      <td>4</td>\n",
       "      <td>Asia</td>\n",
       "    </tr>\n",
       "    <tr>\n",
       "      <th>1</th>\n",
       "      <td>Åland Islands</td>\n",
       "      <td>248</td>\n",
       "      <td>Europe</td>\n",
       "    </tr>\n",
       "    <tr>\n",
       "      <th>2</th>\n",
       "      <td>Albania</td>\n",
       "      <td>8</td>\n",
       "      <td>Europe</td>\n",
       "    </tr>\n",
       "    <tr>\n",
       "      <th>3</th>\n",
       "      <td>Algeria</td>\n",
       "      <td>12</td>\n",
       "      <td>Africa</td>\n",
       "    </tr>\n",
       "    <tr>\n",
       "      <th>4</th>\n",
       "      <td>American Samoa</td>\n",
       "      <td>16</td>\n",
       "      <td>Oceania</td>\n",
       "    </tr>\n",
       "  </tbody>\n",
       "</table>\n",
       "</div>"
      ],
      "text/plain": [
       "          country  iso_code continent\n",
       "0     Afghanistan         4      Asia\n",
       "1   Åland Islands       248    Europe\n",
       "2         Albania         8    Europe\n",
       "3         Algeria        12    Africa\n",
       "4  American Samoa        16   Oceania"
      ]
     },
     "execution_count": 7,
     "metadata": {},
     "output_type": "execute_result"
    }
   ],
   "source": [
    "#join continent file to first dataframe in order to create continent column\n",
    "df1 = pd.read_csv('country_continent.csv')\n",
    "df1.head()"
   ]
  },
  {
   "cell_type": "code",
   "execution_count": 8,
   "id": "09ca2e47",
   "metadata": {
    "scrolled": true
   },
   "outputs": [],
   "source": [
    "df2 = df.merge(df1, on='country')"
   ]
  },
  {
   "cell_type": "code",
   "execution_count": 9,
   "id": "87d8d44e",
   "metadata": {
    "scrolled": true
   },
   "outputs": [],
   "source": [
    "df2['continent'] = df2.continent.str.replace('Oceania', 'Australia')"
   ]
  },
  {
   "cell_type": "code",
   "execution_count": 10,
   "id": "e5fa554a",
   "metadata": {},
   "outputs": [
    {
     "data": {
      "text/html": [
       "<div>\n",
       "<style scoped>\n",
       "    .dataframe tbody tr th:only-of-type {\n",
       "        vertical-align: middle;\n",
       "    }\n",
       "\n",
       "    .dataframe tbody tr th {\n",
       "        vertical-align: top;\n",
       "    }\n",
       "\n",
       "    .dataframe thead th {\n",
       "        text-align: right;\n",
       "    }\n",
       "</style>\n",
       "<table border=\"1\" class=\"dataframe\">\n",
       "  <thead>\n",
       "    <tr style=\"text-align: right;\">\n",
       "      <th></th>\n",
       "      <th>companies</th>\n",
       "      <th>expert_tag</th>\n",
       "      <th>farm_segment</th>\n",
       "      <th>solution_focus</th>\n",
       "      <th>funding</th>\n",
       "      <th>country</th>\n",
       "      <th>iso_code</th>\n",
       "      <th>continent</th>\n",
       "    </tr>\n",
       "  </thead>\n",
       "  <tbody>\n",
       "    <tr>\n",
       "      <th>0</th>\n",
       "      <td>EarthOptics</td>\n",
       "      <td>NaN</td>\n",
       "      <td>Multi-faceted</td>\n",
       "      <td>Monitoring &amp; Management</td>\n",
       "      <td>15.25</td>\n",
       "      <td>United States of America</td>\n",
       "      <td>840</td>\n",
       "      <td>North America</td>\n",
       "    </tr>\n",
       "    <tr>\n",
       "      <th>1</th>\n",
       "      <td>Harvesting</td>\n",
       "      <td>NaN</td>\n",
       "      <td>Crops</td>\n",
       "      <td>Business Planning &amp; Finance</td>\n",
       "      <td>0.00</td>\n",
       "      <td>United States of America</td>\n",
       "      <td>840</td>\n",
       "      <td>North America</td>\n",
       "    </tr>\n",
       "    <tr>\n",
       "      <th>2</th>\n",
       "      <td>Harvest Automation - Warehouse Automation Busi...</td>\n",
       "      <td>Handling, Agriculture</td>\n",
       "      <td>Crops</td>\n",
       "      <td>Monitoring &amp; Management</td>\n",
       "      <td>0.00</td>\n",
       "      <td>United States of America</td>\n",
       "      <td>840</td>\n",
       "      <td>North America</td>\n",
       "    </tr>\n",
       "    <tr>\n",
       "      <th>3</th>\n",
       "      <td>Trimble</td>\n",
       "      <td>infrastructure, Sensors, Connectivity, 3Dprint...</td>\n",
       "      <td>Crops</td>\n",
       "      <td>Monitoring &amp; Management</td>\n",
       "      <td>0.00</td>\n",
       "      <td>United States of America</td>\n",
       "      <td>840</td>\n",
       "      <td>North America</td>\n",
       "    </tr>\n",
       "    <tr>\n",
       "      <th>4</th>\n",
       "      <td>Grow Camera</td>\n",
       "      <td>ConnectedDevices</td>\n",
       "      <td>Crops</td>\n",
       "      <td>Monitoring &amp; Management</td>\n",
       "      <td>0.00</td>\n",
       "      <td>United States of America</td>\n",
       "      <td>840</td>\n",
       "      <td>North America</td>\n",
       "    </tr>\n",
       "  </tbody>\n",
       "</table>\n",
       "</div>"
      ],
      "text/plain": [
       "                                           companies  \\\n",
       "0                                        EarthOptics   \n",
       "1                                         Harvesting   \n",
       "2  Harvest Automation - Warehouse Automation Busi...   \n",
       "3                                            Trimble   \n",
       "4                                        Grow Camera   \n",
       "\n",
       "                                          expert_tag   farm_segment  \\\n",
       "0                                                NaN  Multi-faceted   \n",
       "1                                                NaN          Crops   \n",
       "2                              Handling, Agriculture          Crops   \n",
       "3  infrastructure, Sensors, Connectivity, 3Dprint...          Crops   \n",
       "4                                   ConnectedDevices          Crops   \n",
       "\n",
       "                solution_focus  funding                   country  iso_code  \\\n",
       "0      Monitoring & Management    15.25  United States of America       840   \n",
       "1  Business Planning & Finance     0.00  United States of America       840   \n",
       "2      Monitoring & Management     0.00  United States of America       840   \n",
       "3      Monitoring & Management     0.00  United States of America       840   \n",
       "4      Monitoring & Management     0.00  United States of America       840   \n",
       "\n",
       "       continent  \n",
       "0  North America  \n",
       "1  North America  \n",
       "2  North America  \n",
       "3  North America  \n",
       "4  North America  "
      ]
     },
     "execution_count": 10,
     "metadata": {},
     "output_type": "execute_result"
    }
   ],
   "source": [
    "# df2.to_csv('conCountries.csv')\n",
    "df2.head()"
   ]
  },
  {
   "cell_type": "code",
   "execution_count": 11,
   "id": "fcb94caa",
   "metadata": {},
   "outputs": [
    {
     "data": {
      "text/html": [
       "<div>\n",
       "<style scoped>\n",
       "    .dataframe tbody tr th:only-of-type {\n",
       "        vertical-align: middle;\n",
       "    }\n",
       "\n",
       "    .dataframe tbody tr th {\n",
       "        vertical-align: top;\n",
       "    }\n",
       "\n",
       "    .dataframe thead th {\n",
       "        text-align: right;\n",
       "    }\n",
       "</style>\n",
       "<table border=\"1\" class=\"dataframe\">\n",
       "  <thead>\n",
       "    <tr style=\"text-align: right;\">\n",
       "      <th></th>\n",
       "      <th>companies</th>\n",
       "      <th>expert_tag</th>\n",
       "      <th>farm_segment</th>\n",
       "      <th>solution_focus</th>\n",
       "      <th>funding</th>\n",
       "      <th>country</th>\n",
       "      <th>iso_code</th>\n",
       "      <th>continent</th>\n",
       "    </tr>\n",
       "  </thead>\n",
       "  <tbody>\n",
       "    <tr>\n",
       "      <th>1213</th>\n",
       "      <td>ACS Online</td>\n",
       "      <td>NaN</td>\n",
       "      <td>Livestock, Poultry, &amp; eats</td>\n",
       "      <td>NaN</td>\n",
       "      <td>0.00</td>\n",
       "      <td>South Africa</td>\n",
       "      <td>710</td>\n",
       "      <td>Africa</td>\n",
       "    </tr>\n",
       "    <tr>\n",
       "      <th>1214</th>\n",
       "      <td>FlyH2</td>\n",
       "      <td>Drones, Agriculture</td>\n",
       "      <td>Crops</td>\n",
       "      <td>Monitoring &amp; Management</td>\n",
       "      <td>0.00</td>\n",
       "      <td>South Africa</td>\n",
       "      <td>710</td>\n",
       "      <td>Africa</td>\n",
       "    </tr>\n",
       "    <tr>\n",
       "      <th>1215</th>\n",
       "      <td>Revolute</td>\n",
       "      <td>NaN</td>\n",
       "      <td>Crops</td>\n",
       "      <td>Monitoring &amp; Management</td>\n",
       "      <td>0.00</td>\n",
       "      <td>South Africa</td>\n",
       "      <td>710</td>\n",
       "      <td>Africa</td>\n",
       "    </tr>\n",
       "    <tr>\n",
       "      <th>1216</th>\n",
       "      <td>Farmpin</td>\n",
       "      <td>NaN</td>\n",
       "      <td>Crops</td>\n",
       "      <td>Monitoring &amp; Management</td>\n",
       "      <td>0.00</td>\n",
       "      <td>South Africa</td>\n",
       "      <td>710</td>\n",
       "      <td>Africa</td>\n",
       "    </tr>\n",
       "    <tr>\n",
       "      <th>1217</th>\n",
       "      <td>GreenFingers Mobile</td>\n",
       "      <td>NaN</td>\n",
       "      <td>Multi-faceted</td>\n",
       "      <td>Business Planning &amp; Finance</td>\n",
       "      <td>0.07</td>\n",
       "      <td>South Africa</td>\n",
       "      <td>710</td>\n",
       "      <td>Africa</td>\n",
       "    </tr>\n",
       "  </tbody>\n",
       "</table>\n",
       "</div>"
      ],
      "text/plain": [
       "                companies           expert_tag                farm_segment  \\\n",
       "1213           ACS Online                  NaN  Livestock, Poultry, & eats   \n",
       "1214                FlyH2  Drones, Agriculture                       Crops   \n",
       "1215             Revolute                  NaN                       Crops   \n",
       "1216              Farmpin                  NaN                       Crops   \n",
       "1217  GreenFingers Mobile                  NaN               Multi-faceted   \n",
       "\n",
       "                   solution_focus  funding       country  iso_code continent  \n",
       "1213                          NaN     0.00  South Africa       710    Africa  \n",
       "1214      Monitoring & Management     0.00  South Africa       710    Africa  \n",
       "1215      Monitoring & Management     0.00  South Africa       710    Africa  \n",
       "1216      Monitoring & Management     0.00  South Africa       710    Africa  \n",
       "1217  Business Planning & Finance     0.07  South Africa       710    Africa  "
      ]
     },
     "execution_count": 11,
     "metadata": {},
     "output_type": "execute_result"
    }
   ],
   "source": [
    "Africa = df2.query('continent==\"Africa\"')\n",
    "Africa.head()"
   ]
  },
  {
   "cell_type": "code",
   "execution_count": 12,
   "id": "4947b03f",
   "metadata": {},
   "outputs": [
    {
     "data": {
      "text/plain": [
       "25849850000.000004"
      ]
     },
     "execution_count": 12,
     "metadata": {},
     "output_type": "execute_result"
    }
   ],
   "source": [
    "df2[df2.continent == 'North America'].funding.sum()* 1000000\n"
   ]
  },
  {
   "cell_type": "code",
   "execution_count": 13,
   "id": "a578a223",
   "metadata": {},
   "outputs": [
    {
     "data": {
      "text/plain": [
       "266229999.99999997"
      ]
     },
     "execution_count": 13,
     "metadata": {},
     "output_type": "execute_result"
    }
   ],
   "source": [
    "df2[df2.continent == 'Australia'].funding.sum()* 1000000"
   ]
  },
  {
   "cell_type": "code",
   "execution_count": 14,
   "id": "3bcea50f",
   "metadata": {},
   "outputs": [
    {
     "data": {
      "text/plain": [
       "374840000.00000006"
      ]
     },
     "execution_count": 14,
     "metadata": {},
     "output_type": "execute_result"
    }
   ],
   "source": [
    "df2[df2.continent == 'Africa'].funding.sum()* 1000000"
   ]
  },
  {
   "cell_type": "code",
   "execution_count": 15,
   "id": "69b8bbf9",
   "metadata": {},
   "outputs": [
    {
     "data": {
      "text/plain": [
       "908120000.0"
      ]
     },
     "execution_count": 15,
     "metadata": {},
     "output_type": "execute_result"
    }
   ],
   "source": [
    "\n",
    "df2[df2.continent == 'South America'].funding.sum()* 1000000"
   ]
  },
  {
   "cell_type": "code",
   "execution_count": 16,
   "id": "21b76176",
   "metadata": {},
   "outputs": [
    {
     "data": {
      "text/plain": [
       "6507490000.0"
      ]
     },
     "execution_count": 16,
     "metadata": {},
     "output_type": "execute_result"
    }
   ],
   "source": [
    "df2[df2.continent == 'Asia'].funding.sum() * 1000000"
   ]
  },
  {
   "cell_type": "code",
   "execution_count": 17,
   "id": "6ff4aa95",
   "metadata": {},
   "outputs": [
    {
     "data": {
      "text/plain": [
       "4616129999.999999"
      ]
     },
     "execution_count": 17,
     "metadata": {},
     "output_type": "execute_result"
    }
   ],
   "source": [
    "df2[df2.continent == 'Europe'].funding.sum()* 1000000"
   ]
  },
  {
   "cell_type": "code",
   "execution_count": 18,
   "id": "5a665d91",
   "metadata": {},
   "outputs": [],
   "source": [
    "## Africa alone and funding for biggest destination for investors within Africa"
   ]
  },
  {
   "cell_type": "code",
   "execution_count": 19,
   "id": "68e7cd12",
   "metadata": {},
   "outputs": [
    {
     "data": {
      "text/plain": [
       "0.9142916240018383"
      ]
     },
     "execution_count": 19,
     "metadata": {},
     "output_type": "execute_result"
    }
   ],
   "source": [
    "# percentage of investment in Africa\n",
    "df2[df2.continent == 'Africa'].funding.sum() / df.funding.sum() * 100"
   ]
  },
  {
   "cell_type": "code",
   "execution_count": 20,
   "id": "2c7142a8",
   "metadata": {
    "scrolled": true
   },
   "outputs": [
    {
     "data": {
      "text/plain": [
       "84.38"
      ]
     },
     "execution_count": 20,
     "metadata": {},
     "output_type": "execute_result"
    }
   ],
   "source": [
    "#Funding in Nigeria\n",
    "Africa[Africa.country == 'Nigeria'].funding.sum()\n"
   ]
  },
  {
   "cell_type": "code",
   "execution_count": 21,
   "id": "bcaf2871",
   "metadata": {
    "scrolled": true
   },
   "outputs": [
    {
     "data": {
      "text/plain": [
       "101.28999999999999"
      ]
     },
     "execution_count": 21,
     "metadata": {},
     "output_type": "execute_result"
    }
   ],
   "source": [
    "#Funding in Kenya\n",
    "Africa[Africa.country == 'Kenya'].funding.sum()"
   ]
  },
  {
   "cell_type": "code",
   "execution_count": 22,
   "id": "f821c6ea",
   "metadata": {},
   "outputs": [
    {
     "data": {
      "text/plain": [
       "150.96000000000004"
      ]
     },
     "execution_count": 22,
     "metadata": {},
     "output_type": "execute_result"
    }
   ],
   "source": [
    "#Funding in South Africa\n",
    "Africa[Africa.country == 'South Africa'].funding.sum()"
   ]
  },
  {
   "cell_type": "code",
   "execution_count": 23,
   "id": "4d486268",
   "metadata": {
    "scrolled": true
   },
   "outputs": [
    {
     "data": {
      "text/html": [
       "<div>\n",
       "<style scoped>\n",
       "    .dataframe tbody tr th:only-of-type {\n",
       "        vertical-align: middle;\n",
       "    }\n",
       "\n",
       "    .dataframe tbody tr th {\n",
       "        vertical-align: top;\n",
       "    }\n",
       "\n",
       "    .dataframe thead th {\n",
       "        text-align: right;\n",
       "    }\n",
       "</style>\n",
       "<table border=\"1\" class=\"dataframe\">\n",
       "  <thead>\n",
       "    <tr style=\"text-align: right;\">\n",
       "      <th></th>\n",
       "      <th>solution_focus</th>\n",
       "      <th>funding</th>\n",
       "    </tr>\n",
       "  </thead>\n",
       "  <tbody>\n",
       "    <tr>\n",
       "      <th>0</th>\n",
       "      <td>Biotech</td>\n",
       "      <td>17695.18</td>\n",
       "    </tr>\n",
       "    <tr>\n",
       "      <th>1</th>\n",
       "      <td>Business Planning &amp; Finance</td>\n",
       "      <td>4507.22</td>\n",
       "    </tr>\n",
       "    <tr>\n",
       "      <th>2</th>\n",
       "      <td>Distribution &amp; Sales</td>\n",
       "      <td>3344.95</td>\n",
       "    </tr>\n",
       "    <tr>\n",
       "      <th>3</th>\n",
       "      <td>Monitoring &amp; Management</td>\n",
       "      <td>10906.74</td>\n",
       "    </tr>\n",
       "    <tr>\n",
       "      <th>4</th>\n",
       "      <td>Packing &amp; Supply Chain</td>\n",
       "      <td>1926.39</td>\n",
       "    </tr>\n",
       "  </tbody>\n",
       "</table>\n",
       "</div>"
      ],
      "text/plain": [
       "                solution_focus   funding\n",
       "0                      Biotech  17695.18\n",
       "1  Business Planning & Finance   4507.22\n",
       "2         Distribution & Sales   3344.95\n",
       "3      Monitoring & Management  10906.74\n",
       "4       Packing & Supply Chain   1926.39"
      ]
     },
     "execution_count": 23,
     "metadata": {},
     "output_type": "execute_result"
    }
   ],
   "source": [
    "## How much investment per solution focus?\n",
    "df2.groupby('solution_focus').funding.sum().to_frame().reset_index()\n"
   ]
  },
  {
   "cell_type": "code",
   "execution_count": 24,
   "id": "092166a0",
   "metadata": {},
   "outputs": [
    {
     "data": {
      "text/plain": [
       "45.93447077642095"
      ]
     },
     "execution_count": 24,
     "metadata": {},
     "output_type": "execute_result"
    }
   ],
   "source": [
    "## Percentage of all investment in agritech going to biotech companies\n",
    "df2[df2['solution_focus'] == 'Biotech'].funding.sum() / df2.funding.sum() * 100"
   ]
  },
  {
   "cell_type": "code",
   "execution_count": 25,
   "id": "1b513d0f",
   "metadata": {},
   "outputs": [
    {
     "data": {
      "text/html": [
       "<div>\n",
       "<style scoped>\n",
       "    .dataframe tbody tr th:only-of-type {\n",
       "        vertical-align: middle;\n",
       "    }\n",
       "\n",
       "    .dataframe tbody tr th {\n",
       "        vertical-align: top;\n",
       "    }\n",
       "\n",
       "    .dataframe thead th {\n",
       "        text-align: right;\n",
       "    }\n",
       "</style>\n",
       "<table border=\"1\" class=\"dataframe\">\n",
       "  <thead>\n",
       "    <tr style=\"text-align: right;\">\n",
       "      <th></th>\n",
       "      <th>continent</th>\n",
       "      <th>funding</th>\n",
       "    </tr>\n",
       "  </thead>\n",
       "  <tbody>\n",
       "    <tr>\n",
       "      <th>0</th>\n",
       "      <td>Africa</td>\n",
       "      <td>0.01</td>\n",
       "    </tr>\n",
       "    <tr>\n",
       "      <th>1</th>\n",
       "      <td>Asia</td>\n",
       "      <td>1565.11</td>\n",
       "    </tr>\n",
       "    <tr>\n",
       "      <th>2</th>\n",
       "      <td>Australia</td>\n",
       "      <td>71.32</td>\n",
       "    </tr>\n",
       "    <tr>\n",
       "      <th>3</th>\n",
       "      <td>Europe</td>\n",
       "      <td>1749.56</td>\n",
       "    </tr>\n",
       "    <tr>\n",
       "      <th>4</th>\n",
       "      <td>North America</td>\n",
       "      <td>13771.52</td>\n",
       "    </tr>\n",
       "    <tr>\n",
       "      <th>5</th>\n",
       "      <td>South America</td>\n",
       "      <td>537.66</td>\n",
       "    </tr>\n",
       "  </tbody>\n",
       "</table>\n",
       "</div>"
      ],
      "text/plain": [
       "       continent   funding\n",
       "0         Africa      0.01\n",
       "1           Asia   1565.11\n",
       "2      Australia     71.32\n",
       "3         Europe   1749.56\n",
       "4  North America  13771.52\n",
       "5  South America    537.66"
      ]
     },
     "execution_count": 25,
     "metadata": {},
     "output_type": "execute_result"
    }
   ],
   "source": [
    "#How much investment in Biotech (the area which is attracting investors the most)per continent?\n",
    "df2[df2['solution_focus'] == 'Biotech'].groupby('continent').funding.sum().to_frame().reset_index()"
   ]
  },
  {
   "cell_type": "code",
   "execution_count": 26,
   "id": "aba1e424",
   "metadata": {},
   "outputs": [
    {
     "data": {
      "text/html": [
       "<div>\n",
       "<style scoped>\n",
       "    .dataframe tbody tr th:only-of-type {\n",
       "        vertical-align: middle;\n",
       "    }\n",
       "\n",
       "    .dataframe tbody tr th {\n",
       "        vertical-align: top;\n",
       "    }\n",
       "\n",
       "    .dataframe thead th {\n",
       "        text-align: right;\n",
       "    }\n",
       "</style>\n",
       "<table border=\"1\" class=\"dataframe\">\n",
       "  <thead>\n",
       "    <tr style=\"text-align: right;\">\n",
       "      <th></th>\n",
       "      <th>solution_focus</th>\n",
       "      <th>funding</th>\n",
       "    </tr>\n",
       "  </thead>\n",
       "  <tbody>\n",
       "    <tr>\n",
       "      <th>0</th>\n",
       "      <td>Biotech</td>\n",
       "      <td>0.01</td>\n",
       "    </tr>\n",
       "    <tr>\n",
       "      <th>1</th>\n",
       "      <td>Business Planning &amp; Finance</td>\n",
       "      <td>147.67</td>\n",
       "    </tr>\n",
       "    <tr>\n",
       "      <th>2</th>\n",
       "      <td>Distribution &amp; Sales</td>\n",
       "      <td>11.41</td>\n",
       "    </tr>\n",
       "    <tr>\n",
       "      <th>3</th>\n",
       "      <td>Monitoring &amp; Management</td>\n",
       "      <td>198.28</td>\n",
       "    </tr>\n",
       "    <tr>\n",
       "      <th>4</th>\n",
       "      <td>Packing &amp; Supply Chain</td>\n",
       "      <td>16.47</td>\n",
       "    </tr>\n",
       "  </tbody>\n",
       "</table>\n",
       "</div>"
      ],
      "text/plain": [
       "                solution_focus  funding\n",
       "0                      Biotech     0.01\n",
       "1  Business Planning & Finance   147.67\n",
       "2         Distribution & Sales    11.41\n",
       "3      Monitoring & Management   198.28\n",
       "4       Packing & Supply Chain    16.47"
      ]
     },
     "execution_count": 26,
     "metadata": {},
     "output_type": "execute_result"
    }
   ],
   "source": [
    "#Whhich areas are attracting the most investment in Africa?\n",
    "\n",
    "Africa.groupby(['solution_focus']).funding.sum().to_frame().reset_index()"
   ]
  },
  {
   "cell_type": "code",
   "execution_count": 27,
   "id": "1dcf2683",
   "metadata": {
    "scrolled": true
   },
   "outputs": [
    {
     "data": {
      "text/html": [
       "<div>\n",
       "<style scoped>\n",
       "    .dataframe tbody tr th:only-of-type {\n",
       "        vertical-align: middle;\n",
       "    }\n",
       "\n",
       "    .dataframe tbody tr th {\n",
       "        vertical-align: top;\n",
       "    }\n",
       "\n",
       "    .dataframe thead th {\n",
       "        text-align: right;\n",
       "    }\n",
       "</style>\n",
       "<table border=\"1\" class=\"dataframe\">\n",
       "  <thead>\n",
       "    <tr style=\"text-align: right;\">\n",
       "      <th></th>\n",
       "      <th>solution_focus</th>\n",
       "      <th>funding</th>\n",
       "    </tr>\n",
       "  </thead>\n",
       "  <tbody>\n",
       "    <tr>\n",
       "      <th>0</th>\n",
       "      <td>Biotech</td>\n",
       "      <td>0.01</td>\n",
       "    </tr>\n",
       "    <tr>\n",
       "      <th>1</th>\n",
       "      <td>Business Planning &amp; Finance</td>\n",
       "      <td>147.67</td>\n",
       "    </tr>\n",
       "    <tr>\n",
       "      <th>2</th>\n",
       "      <td>Distribution &amp; Sales</td>\n",
       "      <td>11.41</td>\n",
       "    </tr>\n",
       "    <tr>\n",
       "      <th>3</th>\n",
       "      <td>Monitoring &amp; Management</td>\n",
       "      <td>198.28</td>\n",
       "    </tr>\n",
       "    <tr>\n",
       "      <th>4</th>\n",
       "      <td>Packing &amp; Supply Chain</td>\n",
       "      <td>16.47</td>\n",
       "    </tr>\n",
       "  </tbody>\n",
       "</table>\n",
       "</div>"
      ],
      "text/plain": [
       "                solution_focus  funding\n",
       "0                      Biotech     0.01\n",
       "1  Business Planning & Finance   147.67\n",
       "2         Distribution & Sales    11.41\n",
       "3      Monitoring & Management   198.28\n",
       "4       Packing & Supply Chain    16.47"
      ]
     },
     "execution_count": 27,
     "metadata": {},
     "output_type": "execute_result"
    }
   ],
   "source": [
    "#Whhich areas are attracting the most investment in Africa?\n",
    "\n",
    "Africa.groupby(['solution_focus']).funding.sum().to_frame().reset_index()"
   ]
  },
  {
   "cell_type": "code",
   "execution_count": 28,
   "id": "e1813388",
   "metadata": {},
   "outputs": [
    {
     "data": {
      "text/html": [
       "<div>\n",
       "<style scoped>\n",
       "    .dataframe tbody tr th:only-of-type {\n",
       "        vertical-align: middle;\n",
       "    }\n",
       "\n",
       "    .dataframe tbody tr th {\n",
       "        vertical-align: top;\n",
       "    }\n",
       "\n",
       "    .dataframe thead th {\n",
       "        text-align: right;\n",
       "    }\n",
       "</style>\n",
       "<table border=\"1\" class=\"dataframe\">\n",
       "  <thead>\n",
       "    <tr style=\"text-align: right;\">\n",
       "      <th></th>\n",
       "      <th>companies</th>\n",
       "      <th>expert_tag</th>\n",
       "      <th>farm_segment</th>\n",
       "      <th>solution_focus</th>\n",
       "      <th>funding</th>\n",
       "      <th>country</th>\n",
       "      <th>iso_code</th>\n",
       "      <th>continent</th>\n",
       "    </tr>\n",
       "  </thead>\n",
       "  <tbody>\n",
       "    <tr>\n",
       "      <th>1616</th>\n",
       "      <td>Yehu Microfinance</td>\n",
       "      <td>NaN</td>\n",
       "      <td>Multi-faceted</td>\n",
       "      <td>Business Planning &amp; Finance</td>\n",
       "      <td>1.13</td>\n",
       "      <td>Kenya</td>\n",
       "      <td>404</td>\n",
       "      <td>Africa</td>\n",
       "    </tr>\n",
       "    <tr>\n",
       "      <th>1223</th>\n",
       "      <td>KHULA!</td>\n",
       "      <td>NaN</td>\n",
       "      <td>Crops</td>\n",
       "      <td>Distribution &amp; Sales</td>\n",
       "      <td>1.30</td>\n",
       "      <td>South Africa</td>\n",
       "      <td>710</td>\n",
       "      <td>Africa</td>\n",
       "    </tr>\n",
       "    <tr>\n",
       "      <th>1615</th>\n",
       "      <td>Shamba Pride</td>\n",
       "      <td>NaN</td>\n",
       "      <td>Multi-faceted</td>\n",
       "      <td>Distribution &amp; Sales</td>\n",
       "      <td>1.32</td>\n",
       "      <td>Kenya</td>\n",
       "      <td>404</td>\n",
       "      <td>Africa</td>\n",
       "    </tr>\n",
       "    <tr>\n",
       "      <th>1623</th>\n",
       "      <td>Esoko Networks</td>\n",
       "      <td>NaN</td>\n",
       "      <td>Crops</td>\n",
       "      <td>Business Planning &amp; Finance</td>\n",
       "      <td>1.50</td>\n",
       "      <td>Ghana</td>\n",
       "      <td>288</td>\n",
       "      <td>Africa</td>\n",
       "    </tr>\n",
       "    <tr>\n",
       "      <th>1629</th>\n",
       "      <td>Green Gold Farms</td>\n",
       "      <td>NaN</td>\n",
       "      <td>Crops</td>\n",
       "      <td>Monitoring &amp; Management</td>\n",
       "      <td>1.60</td>\n",
       "      <td>Ghana</td>\n",
       "      <td>288</td>\n",
       "      <td>Africa</td>\n",
       "    </tr>\n",
       "    <tr>\n",
       "      <th>1626</th>\n",
       "      <td>AgroCenta</td>\n",
       "      <td>Agriculture, trading</td>\n",
       "      <td>Multi-faceted</td>\n",
       "      <td>Distribution &amp; Sales</td>\n",
       "      <td>2.47</td>\n",
       "      <td>Ghana</td>\n",
       "      <td>288</td>\n",
       "      <td>Africa</td>\n",
       "    </tr>\n",
       "    <tr>\n",
       "      <th>1488</th>\n",
       "      <td>Pura Organic</td>\n",
       "      <td>NaN</td>\n",
       "      <td>Crops</td>\n",
       "      <td>Packing &amp; Supply Chain</td>\n",
       "      <td>2.50</td>\n",
       "      <td>Uganda</td>\n",
       "      <td>800</td>\n",
       "      <td>Africa</td>\n",
       "    </tr>\n",
       "    <tr>\n",
       "      <th>1619</th>\n",
       "      <td>Hello Tractor</td>\n",
       "      <td>GeneralLending&amp;Marketplaces</td>\n",
       "      <td>Crops</td>\n",
       "      <td>Business Planning &amp; Finance</td>\n",
       "      <td>2.56</td>\n",
       "      <td>Kenya</td>\n",
       "      <td>404</td>\n",
       "      <td>Africa</td>\n",
       "    </tr>\n",
       "    <tr>\n",
       "      <th>1639</th>\n",
       "      <td>Farmcrowdy</td>\n",
       "      <td>Agriculture</td>\n",
       "      <td>Multi-faceted</td>\n",
       "      <td>Business Planning &amp; Finance</td>\n",
       "      <td>3.01</td>\n",
       "      <td>Nigeria</td>\n",
       "      <td>566</td>\n",
       "      <td>Africa</td>\n",
       "    </tr>\n",
       "    <tr>\n",
       "      <th>1620</th>\n",
       "      <td>Victory Farms</td>\n",
       "      <td>NaN</td>\n",
       "      <td>Fishing &amp; Seafood</td>\n",
       "      <td>Monitoring &amp; Management</td>\n",
       "      <td>5.00</td>\n",
       "      <td>Kenya</td>\n",
       "      <td>404</td>\n",
       "      <td>Africa</td>\n",
       "    </tr>\n",
       "    <tr>\n",
       "      <th>1650</th>\n",
       "      <td>Releaf</td>\n",
       "      <td>Cannabis</td>\n",
       "      <td>Crops</td>\n",
       "      <td>Distribution &amp; Sales</td>\n",
       "      <td>5.04</td>\n",
       "      <td>Nigeria</td>\n",
       "      <td>566</td>\n",
       "      <td>Africa</td>\n",
       "    </tr>\n",
       "    <tr>\n",
       "      <th>1224</th>\n",
       "      <td>Inseco</td>\n",
       "      <td>NaN</td>\n",
       "      <td>Multi-faceted</td>\n",
       "      <td>Monitoring &amp; Management</td>\n",
       "      <td>5.30</td>\n",
       "      <td>South Africa</td>\n",
       "      <td>710</td>\n",
       "      <td>Africa</td>\n",
       "    </tr>\n",
       "    <tr>\n",
       "      <th>1633</th>\n",
       "      <td>Farmerline</td>\n",
       "      <td>NaN</td>\n",
       "      <td>Crops</td>\n",
       "      <td>Packing &amp; Supply Chain</td>\n",
       "      <td>13.77</td>\n",
       "      <td>Ghana</td>\n",
       "      <td>288</td>\n",
       "      <td>Africa</td>\n",
       "    </tr>\n",
       "    <tr>\n",
       "      <th>1533</th>\n",
       "      <td>EthioChicken</td>\n",
       "      <td>NaN</td>\n",
       "      <td>Livestock, Poultry, &amp; eats</td>\n",
       "      <td>Monitoring &amp; Management</td>\n",
       "      <td>15.00</td>\n",
       "      <td>Ethiopia</td>\n",
       "      <td>231</td>\n",
       "      <td>Africa</td>\n",
       "    </tr>\n",
       "    <tr>\n",
       "      <th>1647</th>\n",
       "      <td>Agricorp International</td>\n",
       "      <td>NaN</td>\n",
       "      <td>Crops</td>\n",
       "      <td>Business Planning &amp; Finance</td>\n",
       "      <td>17.50</td>\n",
       "      <td>Nigeria</td>\n",
       "      <td>566</td>\n",
       "      <td>Africa</td>\n",
       "    </tr>\n",
       "    <tr>\n",
       "      <th>1222</th>\n",
       "      <td>Aerobotics</td>\n",
       "      <td>Agriculture, mining</td>\n",
       "      <td>Crops</td>\n",
       "      <td>Monitoring &amp; Management</td>\n",
       "      <td>21.64</td>\n",
       "      <td>South Africa</td>\n",
       "      <td>710</td>\n",
       "      <td>Africa</td>\n",
       "    </tr>\n",
       "    <tr>\n",
       "      <th>1613</th>\n",
       "      <td>SunCulture</td>\n",
       "      <td>Solar</td>\n",
       "      <td>Crops</td>\n",
       "      <td>Monitoring &amp; Management</td>\n",
       "      <td>27.00</td>\n",
       "      <td>Kenya</td>\n",
       "      <td>404</td>\n",
       "      <td>Africa</td>\n",
       "    </tr>\n",
       "    <tr>\n",
       "      <th>1651</th>\n",
       "      <td>Thrive Agric</td>\n",
       "      <td>NaN</td>\n",
       "      <td>Crops</td>\n",
       "      <td>Business Planning &amp; Finance</td>\n",
       "      <td>58.51</td>\n",
       "      <td>Nigeria</td>\n",
       "      <td>566</td>\n",
       "      <td>Africa</td>\n",
       "    </tr>\n",
       "    <tr>\n",
       "      <th>1617</th>\n",
       "      <td>Apollo Agriculture</td>\n",
       "      <td>Agriculture</td>\n",
       "      <td>Multi-faceted</td>\n",
       "      <td>Business Planning &amp; Finance</td>\n",
       "      <td>62.21</td>\n",
       "      <td>Kenya</td>\n",
       "      <td>404</td>\n",
       "      <td>Africa</td>\n",
       "    </tr>\n",
       "    <tr>\n",
       "      <th>1218</th>\n",
       "      <td>AgriProtein</td>\n",
       "      <td>Fertilizer, AlternativeFeeds</td>\n",
       "      <td>Livestock, Poultry, &amp; eats</td>\n",
       "      <td>Monitoring &amp; Management</td>\n",
       "      <td>122.50</td>\n",
       "      <td>South Africa</td>\n",
       "      <td>710</td>\n",
       "      <td>Africa</td>\n",
       "    </tr>\n",
       "  </tbody>\n",
       "</table>\n",
       "</div>"
      ],
      "text/plain": [
       "                   companies                    expert_tag  \\\n",
       "1616       Yehu Microfinance                           NaN   \n",
       "1223                  KHULA!                           NaN   \n",
       "1615            Shamba Pride                           NaN   \n",
       "1623          Esoko Networks                           NaN   \n",
       "1629        Green Gold Farms                           NaN   \n",
       "1626               AgroCenta          Agriculture, trading   \n",
       "1488            Pura Organic                           NaN   \n",
       "1619           Hello Tractor   GeneralLending&Marketplaces   \n",
       "1639              Farmcrowdy                   Agriculture   \n",
       "1620           Victory Farms                           NaN   \n",
       "1650                  Releaf                      Cannabis   \n",
       "1224                  Inseco                           NaN   \n",
       "1633              Farmerline                           NaN   \n",
       "1533            EthioChicken                           NaN   \n",
       "1647  Agricorp International                           NaN   \n",
       "1222              Aerobotics           Agriculture, mining   \n",
       "1613              SunCulture                         Solar   \n",
       "1651            Thrive Agric                           NaN   \n",
       "1617      Apollo Agriculture                   Agriculture   \n",
       "1218             AgriProtein  Fertilizer, AlternativeFeeds   \n",
       "\n",
       "                    farm_segment               solution_focus  funding  \\\n",
       "1616               Multi-faceted  Business Planning & Finance     1.13   \n",
       "1223                       Crops         Distribution & Sales     1.30   \n",
       "1615               Multi-faceted         Distribution & Sales     1.32   \n",
       "1623                       Crops  Business Planning & Finance     1.50   \n",
       "1629                       Crops      Monitoring & Management     1.60   \n",
       "1626               Multi-faceted         Distribution & Sales     2.47   \n",
       "1488                       Crops       Packing & Supply Chain     2.50   \n",
       "1619                       Crops  Business Planning & Finance     2.56   \n",
       "1639               Multi-faceted  Business Planning & Finance     3.01   \n",
       "1620           Fishing & Seafood      Monitoring & Management     5.00   \n",
       "1650                       Crops         Distribution & Sales     5.04   \n",
       "1224               Multi-faceted      Monitoring & Management     5.30   \n",
       "1633                       Crops       Packing & Supply Chain    13.77   \n",
       "1533  Livestock, Poultry, & eats      Monitoring & Management    15.00   \n",
       "1647                       Crops  Business Planning & Finance    17.50   \n",
       "1222                       Crops      Monitoring & Management    21.64   \n",
       "1613                       Crops      Monitoring & Management    27.00   \n",
       "1651                       Crops  Business Planning & Finance    58.51   \n",
       "1617               Multi-faceted  Business Planning & Finance    62.21   \n",
       "1218  Livestock, Poultry, & eats      Monitoring & Management   122.50   \n",
       "\n",
       "           country  iso_code continent  \n",
       "1616         Kenya       404    Africa  \n",
       "1223  South Africa       710    Africa  \n",
       "1615         Kenya       404    Africa  \n",
       "1623         Ghana       288    Africa  \n",
       "1629         Ghana       288    Africa  \n",
       "1626         Ghana       288    Africa  \n",
       "1488        Uganda       800    Africa  \n",
       "1619         Kenya       404    Africa  \n",
       "1639       Nigeria       566    Africa  \n",
       "1620         Kenya       404    Africa  \n",
       "1650       Nigeria       566    Africa  \n",
       "1224  South Africa       710    Africa  \n",
       "1633         Ghana       288    Africa  \n",
       "1533      Ethiopia       231    Africa  \n",
       "1647       Nigeria       566    Africa  \n",
       "1222  South Africa       710    Africa  \n",
       "1613         Kenya       404    Africa  \n",
       "1651       Nigeria       566    Africa  \n",
       "1617         Kenya       404    Africa  \n",
       "1218  South Africa       710    Africa  "
      ]
     },
     "execution_count": 28,
     "metadata": {},
     "output_type": "execute_result"
    }
   ],
   "source": [
    "Africa.sort_values(by='funding').tail(20)\n"
   ]
  },
  {
   "cell_type": "code",
   "execution_count": 29,
   "id": "43abd271",
   "metadata": {},
   "outputs": [],
   "source": [
    "# af = df[df.continent == 'Africa']\n",
    "# af.to_csv('afStartups.csv')"
   ]
  },
  {
   "cell_type": "code",
   "execution_count": 30,
   "id": "90006901",
   "metadata": {},
   "outputs": [],
   "source": [
    "# Per capita investment in each continent (continent pop from https://worldpopulationreview.com/continents/africa-population)\n",
    "\n",
    "Africa_pop = 1406722629\n",
    "Asia_pop = 4715932231\n",
    "Europe_pop = 748590761\n",
    "NorthA_pop = 601048052\n",
    "SouthA_pop = 437694443\n",
    "Australia = 43630545\n"
   ]
  },
  {
   "cell_type": "code",
   "execution_count": 31,
   "id": "54e8703e",
   "metadata": {},
   "outputs": [
    {
     "data": {
      "text/plain": [
       "0.26646333276550993"
      ]
     },
     "execution_count": 31,
     "metadata": {},
     "output_type": "execute_result"
    }
   ],
   "source": [
    "374840000 / Africa_pop\n"
   ]
  },
  {
   "cell_type": "code",
   "execution_count": 32,
   "id": "04f562c0",
   "metadata": {},
   "outputs": [
    {
     "data": {
      "text/plain": [
       "1.3798947230885261"
      ]
     },
     "execution_count": 32,
     "metadata": {},
     "output_type": "execute_result"
    }
   ],
   "source": [
    "6507490000 / Asia_pop\n"
   ]
  },
  {
   "cell_type": "code",
   "execution_count": 33,
   "id": "c77a8b54",
   "metadata": {},
   "outputs": [
    {
     "data": {
      "text/plain": [
       "7.254617987464048"
      ]
     },
     "execution_count": 33,
     "metadata": {},
     "output_type": "execute_result"
    }
   ],
   "source": [
    "5430740000 / Europe_pop\n"
   ]
  },
  {
   "cell_type": "code",
   "execution_count": 34,
   "id": "d6355a61",
   "metadata": {},
   "outputs": [
    {
     "data": {
      "text/plain": [
       "43.00795903752467"
      ]
     },
     "execution_count": 34,
     "metadata": {},
     "output_type": "execute_result"
    }
   ],
   "source": [
    "25849850000 / NorthA_pop\n"
   ]
  },
  {
   "cell_type": "code",
   "execution_count": 35,
   "id": "5905d1a8",
   "metadata": {},
   "outputs": [
    {
     "data": {
      "text/plain": [
       "2.0747807392199404"
      ]
     },
     "execution_count": 35,
     "metadata": {},
     "output_type": "execute_result"
    }
   ],
   "source": [
    "908120000 / SouthA_pop"
   ]
  },
  {
   "cell_type": "code",
   "execution_count": 36,
   "id": "7bc34398",
   "metadata": {
    "scrolled": true
   },
   "outputs": [
    {
     "data": {
      "text/plain": [
       "6.101917796351157"
      ]
     },
     "execution_count": 36,
     "metadata": {},
     "output_type": "execute_result"
    }
   ],
   "source": [
    "266229999 / Australia"
   ]
  },
  {
   "cell_type": "code",
   "execution_count": 37,
   "id": "78f2329b",
   "metadata": {},
   "outputs": [
    {
     "data": {
      "text/plain": [
       "solution_focus\n",
       "Biotech                          0.01\n",
       "Business Planning & Finance    147.67\n",
       "Distribution & Sales            11.41\n",
       "Monitoring & Management        198.28\n",
       "Packing & Supply Chain          16.47\n",
       "Name: funding, dtype: float64"
      ]
     },
     "execution_count": 37,
     "metadata": {},
     "output_type": "execute_result"
    }
   ],
   "source": [
    "#Where are investors putting their money in Africa?\n",
    "Africa.groupby(\"solution_focus\")['funding'].sum()"
   ]
  },
  {
   "cell_type": "code",
   "execution_count": 38,
   "id": "ff4143d8",
   "metadata": {
    "scrolled": false
   },
   "outputs": [
    {
     "data": {
      "text/html": [
       "<div>\n",
       "<style scoped>\n",
       "    .dataframe tbody tr th:only-of-type {\n",
       "        vertical-align: middle;\n",
       "    }\n",
       "\n",
       "    .dataframe tbody tr th {\n",
       "        vertical-align: top;\n",
       "    }\n",
       "\n",
       "    .dataframe thead th {\n",
       "        text-align: right;\n",
       "    }\n",
       "</style>\n",
       "<table border=\"1\" class=\"dataframe\">\n",
       "  <thead>\n",
       "    <tr style=\"text-align: right;\">\n",
       "      <th></th>\n",
       "      <th>companies</th>\n",
       "      <th>expert_tag</th>\n",
       "      <th>farm_segment</th>\n",
       "      <th>solution_focus</th>\n",
       "      <th>funding</th>\n",
       "      <th>country</th>\n",
       "      <th>iso_code</th>\n",
       "      <th>continent</th>\n",
       "    </tr>\n",
       "  </thead>\n",
       "  <tbody>\n",
       "    <tr>\n",
       "      <th>1639</th>\n",
       "      <td>Farmcrowdy</td>\n",
       "      <td>Agriculture</td>\n",
       "      <td>Multi-faceted</td>\n",
       "      <td>Business Planning &amp; Finance</td>\n",
       "      <td>3.01</td>\n",
       "      <td>Nigeria</td>\n",
       "      <td>566</td>\n",
       "      <td>Africa</td>\n",
       "    </tr>\n",
       "    <tr>\n",
       "      <th>1620</th>\n",
       "      <td>Victory Farms</td>\n",
       "      <td>NaN</td>\n",
       "      <td>Fishing &amp; Seafood</td>\n",
       "      <td>Monitoring &amp; Management</td>\n",
       "      <td>5.00</td>\n",
       "      <td>Kenya</td>\n",
       "      <td>404</td>\n",
       "      <td>Africa</td>\n",
       "    </tr>\n",
       "    <tr>\n",
       "      <th>1650</th>\n",
       "      <td>Releaf</td>\n",
       "      <td>Cannabis</td>\n",
       "      <td>Crops</td>\n",
       "      <td>Distribution &amp; Sales</td>\n",
       "      <td>5.04</td>\n",
       "      <td>Nigeria</td>\n",
       "      <td>566</td>\n",
       "      <td>Africa</td>\n",
       "    </tr>\n",
       "    <tr>\n",
       "      <th>1224</th>\n",
       "      <td>Inseco</td>\n",
       "      <td>NaN</td>\n",
       "      <td>Multi-faceted</td>\n",
       "      <td>Monitoring &amp; Management</td>\n",
       "      <td>5.30</td>\n",
       "      <td>South Africa</td>\n",
       "      <td>710</td>\n",
       "      <td>Africa</td>\n",
       "    </tr>\n",
       "    <tr>\n",
       "      <th>1633</th>\n",
       "      <td>Farmerline</td>\n",
       "      <td>NaN</td>\n",
       "      <td>Crops</td>\n",
       "      <td>Packing &amp; Supply Chain</td>\n",
       "      <td>13.77</td>\n",
       "      <td>Ghana</td>\n",
       "      <td>288</td>\n",
       "      <td>Africa</td>\n",
       "    </tr>\n",
       "    <tr>\n",
       "      <th>1533</th>\n",
       "      <td>EthioChicken</td>\n",
       "      <td>NaN</td>\n",
       "      <td>Livestock, Poultry, &amp; eats</td>\n",
       "      <td>Monitoring &amp; Management</td>\n",
       "      <td>15.00</td>\n",
       "      <td>Ethiopia</td>\n",
       "      <td>231</td>\n",
       "      <td>Africa</td>\n",
       "    </tr>\n",
       "    <tr>\n",
       "      <th>1647</th>\n",
       "      <td>Agricorp International</td>\n",
       "      <td>NaN</td>\n",
       "      <td>Crops</td>\n",
       "      <td>Business Planning &amp; Finance</td>\n",
       "      <td>17.50</td>\n",
       "      <td>Nigeria</td>\n",
       "      <td>566</td>\n",
       "      <td>Africa</td>\n",
       "    </tr>\n",
       "    <tr>\n",
       "      <th>1222</th>\n",
       "      <td>Aerobotics</td>\n",
       "      <td>Agriculture, mining</td>\n",
       "      <td>Crops</td>\n",
       "      <td>Monitoring &amp; Management</td>\n",
       "      <td>21.64</td>\n",
       "      <td>South Africa</td>\n",
       "      <td>710</td>\n",
       "      <td>Africa</td>\n",
       "    </tr>\n",
       "    <tr>\n",
       "      <th>1613</th>\n",
       "      <td>SunCulture</td>\n",
       "      <td>Solar</td>\n",
       "      <td>Crops</td>\n",
       "      <td>Monitoring &amp; Management</td>\n",
       "      <td>27.00</td>\n",
       "      <td>Kenya</td>\n",
       "      <td>404</td>\n",
       "      <td>Africa</td>\n",
       "    </tr>\n",
       "    <tr>\n",
       "      <th>1651</th>\n",
       "      <td>Thrive Agric</td>\n",
       "      <td>NaN</td>\n",
       "      <td>Crops</td>\n",
       "      <td>Business Planning &amp; Finance</td>\n",
       "      <td>58.51</td>\n",
       "      <td>Nigeria</td>\n",
       "      <td>566</td>\n",
       "      <td>Africa</td>\n",
       "    </tr>\n",
       "    <tr>\n",
       "      <th>1617</th>\n",
       "      <td>Apollo Agriculture</td>\n",
       "      <td>Agriculture</td>\n",
       "      <td>Multi-faceted</td>\n",
       "      <td>Business Planning &amp; Finance</td>\n",
       "      <td>62.21</td>\n",
       "      <td>Kenya</td>\n",
       "      <td>404</td>\n",
       "      <td>Africa</td>\n",
       "    </tr>\n",
       "    <tr>\n",
       "      <th>1218</th>\n",
       "      <td>AgriProtein</td>\n",
       "      <td>Fertilizer, AlternativeFeeds</td>\n",
       "      <td>Livestock, Poultry, &amp; eats</td>\n",
       "      <td>Monitoring &amp; Management</td>\n",
       "      <td>122.50</td>\n",
       "      <td>South Africa</td>\n",
       "      <td>710</td>\n",
       "      <td>Africa</td>\n",
       "    </tr>\n",
       "  </tbody>\n",
       "</table>\n",
       "</div>"
      ],
      "text/plain": [
       "                   companies                    expert_tag  \\\n",
       "1639              Farmcrowdy                   Agriculture   \n",
       "1620           Victory Farms                           NaN   \n",
       "1650                  Releaf                      Cannabis   \n",
       "1224                  Inseco                           NaN   \n",
       "1633              Farmerline                           NaN   \n",
       "1533            EthioChicken                           NaN   \n",
       "1647  Agricorp International                           NaN   \n",
       "1222              Aerobotics           Agriculture, mining   \n",
       "1613              SunCulture                         Solar   \n",
       "1651            Thrive Agric                           NaN   \n",
       "1617      Apollo Agriculture                   Agriculture   \n",
       "1218             AgriProtein  Fertilizer, AlternativeFeeds   \n",
       "\n",
       "                    farm_segment               solution_focus  funding  \\\n",
       "1639               Multi-faceted  Business Planning & Finance     3.01   \n",
       "1620           Fishing & Seafood      Monitoring & Management     5.00   \n",
       "1650                       Crops         Distribution & Sales     5.04   \n",
       "1224               Multi-faceted      Monitoring & Management     5.30   \n",
       "1633                       Crops       Packing & Supply Chain    13.77   \n",
       "1533  Livestock, Poultry, & eats      Monitoring & Management    15.00   \n",
       "1647                       Crops  Business Planning & Finance    17.50   \n",
       "1222                       Crops      Monitoring & Management    21.64   \n",
       "1613                       Crops      Monitoring & Management    27.00   \n",
       "1651                       Crops  Business Planning & Finance    58.51   \n",
       "1617               Multi-faceted  Business Planning & Finance    62.21   \n",
       "1218  Livestock, Poultry, & eats      Monitoring & Management   122.50   \n",
       "\n",
       "           country  iso_code continent  \n",
       "1639       Nigeria       566    Africa  \n",
       "1620         Kenya       404    Africa  \n",
       "1650       Nigeria       566    Africa  \n",
       "1224  South Africa       710    Africa  \n",
       "1633         Ghana       288    Africa  \n",
       "1533      Ethiopia       231    Africa  \n",
       "1647       Nigeria       566    Africa  \n",
       "1222  South Africa       710    Africa  \n",
       "1613         Kenya       404    Africa  \n",
       "1651       Nigeria       566    Africa  \n",
       "1617         Kenya       404    Africa  \n",
       "1218  South Africa       710    Africa  "
      ]
     },
     "execution_count": 38,
     "metadata": {},
     "output_type": "execute_result"
    }
   ],
   "source": [
    "#Which startups have the highest funding?\n",
    "topAfrica = Africa.sort_values(by=\"funding\").tail(12)\n",
    "topAfrica "
   ]
  },
  {
   "cell_type": "code",
   "execution_count": 39,
   "id": "4b597eef",
   "metadata": {
    "scrolled": true
   },
   "outputs": [
    {
     "data": {
      "text/html": [
       "<div>\n",
       "<style scoped>\n",
       "    .dataframe tbody tr th:only-of-type {\n",
       "        vertical-align: middle;\n",
       "    }\n",
       "\n",
       "    .dataframe tbody tr th {\n",
       "        vertical-align: top;\n",
       "    }\n",
       "\n",
       "    .dataframe thead th {\n",
       "        text-align: right;\n",
       "    }\n",
       "</style>\n",
       "<table border=\"1\" class=\"dataframe\">\n",
       "  <thead>\n",
       "    <tr style=\"text-align: right;\">\n",
       "      <th></th>\n",
       "      <th>companies</th>\n",
       "      <th>farm_segment</th>\n",
       "      <th>solution_focus</th>\n",
       "      <th>funding</th>\n",
       "    </tr>\n",
       "  </thead>\n",
       "  <tbody>\n",
       "    <tr>\n",
       "      <th>1639</th>\n",
       "      <td>Farmcrowdy</td>\n",
       "      <td>Multi-faceted</td>\n",
       "      <td>Business Planning &amp; Finance</td>\n",
       "      <td>3.01</td>\n",
       "    </tr>\n",
       "    <tr>\n",
       "      <th>1620</th>\n",
       "      <td>Victory Farms</td>\n",
       "      <td>Fishing &amp; Seafood</td>\n",
       "      <td>Monitoring &amp; Management</td>\n",
       "      <td>5.00</td>\n",
       "    </tr>\n",
       "    <tr>\n",
       "      <th>1650</th>\n",
       "      <td>Releaf</td>\n",
       "      <td>Crops</td>\n",
       "      <td>Distribution &amp; Sales</td>\n",
       "      <td>5.04</td>\n",
       "    </tr>\n",
       "    <tr>\n",
       "      <th>1224</th>\n",
       "      <td>Inseco</td>\n",
       "      <td>Multi-faceted</td>\n",
       "      <td>Monitoring &amp; Management</td>\n",
       "      <td>5.30</td>\n",
       "    </tr>\n",
       "    <tr>\n",
       "      <th>1633</th>\n",
       "      <td>Farmerline</td>\n",
       "      <td>Crops</td>\n",
       "      <td>Packing &amp; Supply Chain</td>\n",
       "      <td>13.77</td>\n",
       "    </tr>\n",
       "    <tr>\n",
       "      <th>1533</th>\n",
       "      <td>EthioChicken</td>\n",
       "      <td>Livestock, Poultry, &amp; eats</td>\n",
       "      <td>Monitoring &amp; Management</td>\n",
       "      <td>15.00</td>\n",
       "    </tr>\n",
       "    <tr>\n",
       "      <th>1647</th>\n",
       "      <td>Agricorp International</td>\n",
       "      <td>Crops</td>\n",
       "      <td>Business Planning &amp; Finance</td>\n",
       "      <td>17.50</td>\n",
       "    </tr>\n",
       "    <tr>\n",
       "      <th>1222</th>\n",
       "      <td>Aerobotics</td>\n",
       "      <td>Crops</td>\n",
       "      <td>Monitoring &amp; Management</td>\n",
       "      <td>21.64</td>\n",
       "    </tr>\n",
       "    <tr>\n",
       "      <th>1613</th>\n",
       "      <td>SunCulture</td>\n",
       "      <td>Crops</td>\n",
       "      <td>Monitoring &amp; Management</td>\n",
       "      <td>27.00</td>\n",
       "    </tr>\n",
       "    <tr>\n",
       "      <th>1651</th>\n",
       "      <td>Thrive Agric</td>\n",
       "      <td>Crops</td>\n",
       "      <td>Business Planning &amp; Finance</td>\n",
       "      <td>58.51</td>\n",
       "    </tr>\n",
       "    <tr>\n",
       "      <th>1617</th>\n",
       "      <td>Apollo Agriculture</td>\n",
       "      <td>Multi-faceted</td>\n",
       "      <td>Business Planning &amp; Finance</td>\n",
       "      <td>62.21</td>\n",
       "    </tr>\n",
       "    <tr>\n",
       "      <th>1218</th>\n",
       "      <td>AgriProtein</td>\n",
       "      <td>Livestock, Poultry, &amp; eats</td>\n",
       "      <td>Monitoring &amp; Management</td>\n",
       "      <td>122.50</td>\n",
       "    </tr>\n",
       "  </tbody>\n",
       "</table>\n",
       "</div>"
      ],
      "text/plain": [
       "                   companies                farm_segment  \\\n",
       "1639              Farmcrowdy               Multi-faceted   \n",
       "1620           Victory Farms           Fishing & Seafood   \n",
       "1650                  Releaf                       Crops   \n",
       "1224                  Inseco               Multi-faceted   \n",
       "1633              Farmerline                       Crops   \n",
       "1533            EthioChicken  Livestock, Poultry, & eats   \n",
       "1647  Agricorp International                       Crops   \n",
       "1222              Aerobotics                       Crops   \n",
       "1613              SunCulture                       Crops   \n",
       "1651            Thrive Agric                       Crops   \n",
       "1617      Apollo Agriculture               Multi-faceted   \n",
       "1218             AgriProtein  Livestock, Poultry, & eats   \n",
       "\n",
       "                   solution_focus  funding  \n",
       "1639  Business Planning & Finance     3.01  \n",
       "1620      Monitoring & Management     5.00  \n",
       "1650         Distribution & Sales     5.04  \n",
       "1224      Monitoring & Management     5.30  \n",
       "1633       Packing & Supply Chain    13.77  \n",
       "1533      Monitoring & Management    15.00  \n",
       "1647  Business Planning & Finance    17.50  \n",
       "1222      Monitoring & Management    21.64  \n",
       "1613      Monitoring & Management    27.00  \n",
       "1651  Business Planning & Finance    58.51  \n",
       "1617  Business Planning & Finance    62.21  \n",
       "1218      Monitoring & Management   122.50  "
      ]
     },
     "execution_count": 39,
     "metadata": {},
     "output_type": "execute_result"
    }
   ],
   "source": [
    "#Companies that have raised the highest funding in Africa.\n",
    "#I saved it into CSV so I can codify the solution focus more than the broad categorization given.\n",
    "top_new = topAfrica[['companies', 'farm_segment', 'solution_focus', 'funding' ]]\n",
    "# top_new.to_csv('top_new.csv')\n",
    "top_new"
   ]
  },
  {
   "cell_type": "code",
   "execution_count": 40,
   "id": "a0fe1cc3",
   "metadata": {},
   "outputs": [
    {
     "data": {
      "text/html": [
       "<div>\n",
       "<style scoped>\n",
       "    .dataframe tbody tr th:only-of-type {\n",
       "        vertical-align: middle;\n",
       "    }\n",
       "\n",
       "    .dataframe tbody tr th {\n",
       "        vertical-align: top;\n",
       "    }\n",
       "\n",
       "    .dataframe thead th {\n",
       "        text-align: right;\n",
       "    }\n",
       "</style>\n",
       "<table border=\"1\" class=\"dataframe\">\n",
       "  <thead>\n",
       "    <tr style=\"text-align: right;\">\n",
       "      <th></th>\n",
       "      <th>companies</th>\n",
       "      <th>expert_tag</th>\n",
       "      <th>farm_segment</th>\n",
       "      <th>solution_focus</th>\n",
       "      <th>funding</th>\n",
       "      <th>country</th>\n",
       "      <th>iso_code</th>\n",
       "      <th>continent</th>\n",
       "    </tr>\n",
       "  </thead>\n",
       "  <tbody>\n",
       "    <tr>\n",
       "      <th>0</th>\n",
       "      <td>EarthOptics</td>\n",
       "      <td>NaN</td>\n",
       "      <td>Multi-faceted</td>\n",
       "      <td>Monitoring &amp; Management</td>\n",
       "      <td>15.25</td>\n",
       "      <td>United States of America</td>\n",
       "      <td>840</td>\n",
       "      <td>North America</td>\n",
       "    </tr>\n",
       "    <tr>\n",
       "      <th>1</th>\n",
       "      <td>Harvesting</td>\n",
       "      <td>NaN</td>\n",
       "      <td>Crops</td>\n",
       "      <td>Business Planning &amp; Finance</td>\n",
       "      <td>0.00</td>\n",
       "      <td>United States of America</td>\n",
       "      <td>840</td>\n",
       "      <td>North America</td>\n",
       "    </tr>\n",
       "    <tr>\n",
       "      <th>2</th>\n",
       "      <td>Harvest Automation - Warehouse Automation Busi...</td>\n",
       "      <td>Handling, Agriculture</td>\n",
       "      <td>Crops</td>\n",
       "      <td>Monitoring &amp; Management</td>\n",
       "      <td>0.00</td>\n",
       "      <td>United States of America</td>\n",
       "      <td>840</td>\n",
       "      <td>North America</td>\n",
       "    </tr>\n",
       "    <tr>\n",
       "      <th>3</th>\n",
       "      <td>Trimble</td>\n",
       "      <td>infrastructure, Sensors, Connectivity, 3Dprint...</td>\n",
       "      <td>Crops</td>\n",
       "      <td>Monitoring &amp; Management</td>\n",
       "      <td>0.00</td>\n",
       "      <td>United States of America</td>\n",
       "      <td>840</td>\n",
       "      <td>North America</td>\n",
       "    </tr>\n",
       "    <tr>\n",
       "      <th>4</th>\n",
       "      <td>Grow Camera</td>\n",
       "      <td>ConnectedDevices</td>\n",
       "      <td>Crops</td>\n",
       "      <td>Monitoring &amp; Management</td>\n",
       "      <td>0.00</td>\n",
       "      <td>United States of America</td>\n",
       "      <td>840</td>\n",
       "      <td>North America</td>\n",
       "    </tr>\n",
       "    <tr>\n",
       "      <th>...</th>\n",
       "      <td>...</td>\n",
       "      <td>...</td>\n",
       "      <td>...</td>\n",
       "      <td>...</td>\n",
       "      <td>...</td>\n",
       "      <td>...</td>\n",
       "      <td>...</td>\n",
       "      <td>...</td>\n",
       "    </tr>\n",
       "    <tr>\n",
       "      <th>1692</th>\n",
       "      <td>ForFarming</td>\n",
       "      <td>NaN</td>\n",
       "      <td>Crops</td>\n",
       "      <td>Monitoring &amp; Management</td>\n",
       "      <td>0.87</td>\n",
       "      <td>Turkey</td>\n",
       "      <td>792</td>\n",
       "      <td>Asia</td>\n",
       "    </tr>\n",
       "    <tr>\n",
       "      <th>1693</th>\n",
       "      <td>Tarfin</td>\n",
       "      <td>NaN</td>\n",
       "      <td>Crops</td>\n",
       "      <td>Business Planning &amp; Finance</td>\n",
       "      <td>14.30</td>\n",
       "      <td>Turkey</td>\n",
       "      <td>792</td>\n",
       "      <td>Asia</td>\n",
       "    </tr>\n",
       "    <tr>\n",
       "      <th>1694</th>\n",
       "      <td>Bridgesoft</td>\n",
       "      <td>NaN</td>\n",
       "      <td>Crops</td>\n",
       "      <td>Biotech</td>\n",
       "      <td>0.00</td>\n",
       "      <td>Turkey</td>\n",
       "      <td>792</td>\n",
       "      <td>Asia</td>\n",
       "    </tr>\n",
       "    <tr>\n",
       "      <th>1695</th>\n",
       "      <td>Cowealthy</td>\n",
       "      <td>NaN</td>\n",
       "      <td>Livestock, Poultry, &amp; eats</td>\n",
       "      <td>Monitoring &amp; Management</td>\n",
       "      <td>0.40</td>\n",
       "      <td>Turkey</td>\n",
       "      <td>792</td>\n",
       "      <td>Asia</td>\n",
       "    </tr>\n",
       "    <tr>\n",
       "      <th>1696</th>\n",
       "      <td>Juicy Marbles</td>\n",
       "      <td>NaN</td>\n",
       "      <td>Livestock, Poultry, &amp; eats</td>\n",
       "      <td>Biotech</td>\n",
       "      <td>4.63</td>\n",
       "      <td>Slovenia</td>\n",
       "      <td>705</td>\n",
       "      <td>Europe</td>\n",
       "    </tr>\n",
       "  </tbody>\n",
       "</table>\n",
       "<p>1697 rows × 8 columns</p>\n",
       "</div>"
      ],
      "text/plain": [
       "                                              companies  \\\n",
       "0                                           EarthOptics   \n",
       "1                                            Harvesting   \n",
       "2     Harvest Automation - Warehouse Automation Busi...   \n",
       "3                                               Trimble   \n",
       "4                                           Grow Camera   \n",
       "...                                                 ...   \n",
       "1692                                         ForFarming   \n",
       "1693                                             Tarfin   \n",
       "1694                                         Bridgesoft   \n",
       "1695                                          Cowealthy   \n",
       "1696                                      Juicy Marbles   \n",
       "\n",
       "                                             expert_tag  \\\n",
       "0                                                   NaN   \n",
       "1                                                   NaN   \n",
       "2                                 Handling, Agriculture   \n",
       "3     infrastructure, Sensors, Connectivity, 3Dprint...   \n",
       "4                                      ConnectedDevices   \n",
       "...                                                 ...   \n",
       "1692                                                NaN   \n",
       "1693                                                NaN   \n",
       "1694                                                NaN   \n",
       "1695                                                NaN   \n",
       "1696                                                NaN   \n",
       "\n",
       "                    farm_segment               solution_focus  funding  \\\n",
       "0                  Multi-faceted      Monitoring & Management    15.25   \n",
       "1                          Crops  Business Planning & Finance     0.00   \n",
       "2                          Crops      Monitoring & Management     0.00   \n",
       "3                          Crops      Monitoring & Management     0.00   \n",
       "4                          Crops      Monitoring & Management     0.00   \n",
       "...                          ...                          ...      ...   \n",
       "1692                       Crops      Monitoring & Management     0.87   \n",
       "1693                       Crops  Business Planning & Finance    14.30   \n",
       "1694                       Crops                      Biotech     0.00   \n",
       "1695  Livestock, Poultry, & eats      Monitoring & Management     0.40   \n",
       "1696  Livestock, Poultry, & eats                      Biotech     4.63   \n",
       "\n",
       "                       country  iso_code      continent  \n",
       "0     United States of America       840  North America  \n",
       "1     United States of America       840  North America  \n",
       "2     United States of America       840  North America  \n",
       "3     United States of America       840  North America  \n",
       "4     United States of America       840  North America  \n",
       "...                        ...       ...            ...  \n",
       "1692                    Turkey       792           Asia  \n",
       "1693                    Turkey       792           Asia  \n",
       "1694                    Turkey       792           Asia  \n",
       "1695                    Turkey       792           Asia  \n",
       "1696                  Slovenia       705         Europe  \n",
       "\n",
       "[1697 rows x 8 columns]"
      ]
     },
     "execution_count": 40,
     "metadata": {},
     "output_type": "execute_result"
    }
   ],
   "source": [
    "df2"
   ]
  },
  {
   "cell_type": "code",
   "execution_count": 41,
   "id": "9fc8f571",
   "metadata": {
    "scrolled": true
   },
   "outputs": [
    {
     "data": {
      "text/html": [
       "<div>\n",
       "<style scoped>\n",
       "    .dataframe tbody tr th:only-of-type {\n",
       "        vertical-align: middle;\n",
       "    }\n",
       "\n",
       "    .dataframe tbody tr th {\n",
       "        vertical-align: top;\n",
       "    }\n",
       "\n",
       "    .dataframe thead th {\n",
       "        text-align: right;\n",
       "    }\n",
       "</style>\n",
       "<table border=\"1\" class=\"dataframe\">\n",
       "  <thead>\n",
       "    <tr style=\"text-align: right;\">\n",
       "      <th></th>\n",
       "      <th>continent</th>\n",
       "      <th>funding</th>\n",
       "    </tr>\n",
       "  </thead>\n",
       "  <tbody>\n",
       "    <tr>\n",
       "      <th>0</th>\n",
       "      <td>Africa</td>\n",
       "      <td>374.84</td>\n",
       "    </tr>\n",
       "    <tr>\n",
       "      <th>1</th>\n",
       "      <td>Asia</td>\n",
       "      <td>6507.49</td>\n",
       "    </tr>\n",
       "    <tr>\n",
       "      <th>2</th>\n",
       "      <td>Australia</td>\n",
       "      <td>266.23</td>\n",
       "    </tr>\n",
       "    <tr>\n",
       "      <th>3</th>\n",
       "      <td>Europe</td>\n",
       "      <td>4616.13</td>\n",
       "    </tr>\n",
       "    <tr>\n",
       "      <th>4</th>\n",
       "      <td>North America</td>\n",
       "      <td>25849.85</td>\n",
       "    </tr>\n",
       "    <tr>\n",
       "      <th>5</th>\n",
       "      <td>South America</td>\n",
       "      <td>908.12</td>\n",
       "    </tr>\n",
       "  </tbody>\n",
       "</table>\n",
       "</div>"
      ],
      "text/plain": [
       "       continent   funding\n",
       "0         Africa    374.84\n",
       "1           Asia   6507.49\n",
       "2      Australia    266.23\n",
       "3         Europe   4616.13\n",
       "4  North America  25849.85\n",
       "5  South America    908.12"
      ]
     },
     "execution_count": 41,
     "metadata": {},
     "output_type": "execute_result"
    }
   ],
   "source": [
    "#Percentage of funding by continent\n",
    "fundingCont = df2.groupby('continent')['funding'].sum().to_frame().reset_index()\n",
    "fundingCont"
   ]
  },
  {
   "cell_type": "code",
   "execution_count": 42,
   "id": "ae01a058",
   "metadata": {},
   "outputs": [
    {
     "data": {
      "text/plain": [
       "0.9730376874286459"
      ]
     },
     "execution_count": 42,
     "metadata": {},
     "output_type": "execute_result"
    }
   ],
   "source": [
    "#Percentage of all funding for Africa\n",
    "fundingCont.query('continent == \"Africa\"').funding.sum() / fundingCont['funding'].sum() * 100"
   ]
  },
  {
   "cell_type": "code",
   "execution_count": 43,
   "id": "6201bbda",
   "metadata": {},
   "outputs": [
    {
     "data": {
      "text/plain": [
       "45.93447077642095"
      ]
     },
     "execution_count": 43,
     "metadata": {},
     "output_type": "execute_result"
    }
   ],
   "source": [
    "#Biotech percentage of funding\n",
    "# df2.query('Solution Focus == \"Biotech\"')['Funding'].sum()\n",
    "df2[df2['solution_focus'] == 'Biotech'].funding.sum() / df2.funding.sum() * 100"
   ]
  },
  {
   "cell_type": "markdown",
   "id": "93887f1f",
   "metadata": {},
   "source": [
    "## Calculating percentage bio funding for each continent"
   ]
  },
  {
   "cell_type": "code",
   "execution_count": 94,
   "id": "7cff1615",
   "metadata": {
    "scrolled": true
   },
   "outputs": [
    {
     "data": {
      "text/html": [
       "<div>\n",
       "<style scoped>\n",
       "    .dataframe tbody tr th:only-of-type {\n",
       "        vertical-align: middle;\n",
       "    }\n",
       "\n",
       "    .dataframe tbody tr th {\n",
       "        vertical-align: top;\n",
       "    }\n",
       "\n",
       "    .dataframe thead th {\n",
       "        text-align: right;\n",
       "    }\n",
       "</style>\n",
       "<table border=\"1\" class=\"dataframe\">\n",
       "  <thead>\n",
       "    <tr style=\"text-align: right;\">\n",
       "      <th></th>\n",
       "      <th>continent</th>\n",
       "      <th>funding</th>\n",
       "    </tr>\n",
       "  </thead>\n",
       "  <tbody>\n",
       "    <tr>\n",
       "      <th>0</th>\n",
       "      <td>Africa</td>\n",
       "      <td>0.01</td>\n",
       "    </tr>\n",
       "    <tr>\n",
       "      <th>1</th>\n",
       "      <td>Asia</td>\n",
       "      <td>1565.11</td>\n",
       "    </tr>\n",
       "    <tr>\n",
       "      <th>2</th>\n",
       "      <td>Australia</td>\n",
       "      <td>71.32</td>\n",
       "    </tr>\n",
       "    <tr>\n",
       "      <th>3</th>\n",
       "      <td>Europe</td>\n",
       "      <td>1749.56</td>\n",
       "    </tr>\n",
       "    <tr>\n",
       "      <th>4</th>\n",
       "      <td>North America</td>\n",
       "      <td>13771.52</td>\n",
       "    </tr>\n",
       "    <tr>\n",
       "      <th>5</th>\n",
       "      <td>South America</td>\n",
       "      <td>537.66</td>\n",
       "    </tr>\n",
       "  </tbody>\n",
       "</table>\n",
       "</div>"
      ],
      "text/plain": [
       "       continent   funding\n",
       "0         Africa      0.01\n",
       "1           Asia   1565.11\n",
       "2      Australia     71.32\n",
       "3         Europe   1749.56\n",
       "4  North America  13771.52\n",
       "5  South America    537.66"
      ]
     },
     "execution_count": 94,
     "metadata": {},
     "output_type": "execute_result"
    }
   ],
   "source": [
    "biotech = df2.query('solution_focus == \"Biotech\"')\n",
    "biotech = biotech.groupby('continent').funding.sum().to_frame().reset_index()\n",
    "biotech"
   ]
  },
  {
   "cell_type": "code",
   "execution_count": 95,
   "id": "a78e7bfb",
   "metadata": {},
   "outputs": [
    {
     "data": {
      "text/html": [
       "<div>\n",
       "<style scoped>\n",
       "    .dataframe tbody tr th:only-of-type {\n",
       "        vertical-align: middle;\n",
       "    }\n",
       "\n",
       "    .dataframe tbody tr th {\n",
       "        vertical-align: top;\n",
       "    }\n",
       "\n",
       "    .dataframe thead th {\n",
       "        text-align: right;\n",
       "    }\n",
       "</style>\n",
       "<table border=\"1\" class=\"dataframe\">\n",
       "  <thead>\n",
       "    <tr style=\"text-align: right;\">\n",
       "      <th></th>\n",
       "      <th>continent</th>\n",
       "      <th>funding_x</th>\n",
       "      <th>funding_y</th>\n",
       "    </tr>\n",
       "  </thead>\n",
       "  <tbody>\n",
       "    <tr>\n",
       "      <th>0</th>\n",
       "      <td>Africa</td>\n",
       "      <td>374.84</td>\n",
       "      <td>0.01</td>\n",
       "    </tr>\n",
       "    <tr>\n",
       "      <th>1</th>\n",
       "      <td>Asia</td>\n",
       "      <td>6507.49</td>\n",
       "      <td>1565.11</td>\n",
       "    </tr>\n",
       "    <tr>\n",
       "      <th>2</th>\n",
       "      <td>Australia</td>\n",
       "      <td>266.23</td>\n",
       "      <td>71.32</td>\n",
       "    </tr>\n",
       "    <tr>\n",
       "      <th>3</th>\n",
       "      <td>Europe</td>\n",
       "      <td>4616.13</td>\n",
       "      <td>1749.56</td>\n",
       "    </tr>\n",
       "    <tr>\n",
       "      <th>4</th>\n",
       "      <td>North America</td>\n",
       "      <td>25849.85</td>\n",
       "      <td>13771.52</td>\n",
       "    </tr>\n",
       "    <tr>\n",
       "      <th>5</th>\n",
       "      <td>South America</td>\n",
       "      <td>908.12</td>\n",
       "      <td>537.66</td>\n",
       "    </tr>\n",
       "  </tbody>\n",
       "</table>\n",
       "</div>"
      ],
      "text/plain": [
       "       continent  funding_x  funding_y\n",
       "0         Africa     374.84       0.01\n",
       "1           Asia    6507.49    1565.11\n",
       "2      Australia     266.23      71.32\n",
       "3         Europe    4616.13    1749.56\n",
       "4  North America   25849.85   13771.52\n",
       "5  South America     908.12     537.66"
      ]
     },
     "execution_count": 95,
     "metadata": {},
     "output_type": "execute_result"
    }
   ],
   "source": [
    "new = fundingCont.merge(biotech, on='continent')\n",
    "new"
   ]
  },
  {
   "cell_type": "code",
   "execution_count": 96,
   "id": "eb655c53",
   "metadata": {
    "scrolled": false
   },
   "outputs": [
    {
     "data": {
      "text/html": [
       "<div>\n",
       "<style scoped>\n",
       "    .dataframe tbody tr th:only-of-type {\n",
       "        vertical-align: middle;\n",
       "    }\n",
       "\n",
       "    .dataframe tbody tr th {\n",
       "        vertical-align: top;\n",
       "    }\n",
       "\n",
       "    .dataframe thead th {\n",
       "        text-align: right;\n",
       "    }\n",
       "</style>\n",
       "<table border=\"1\" class=\"dataframe\">\n",
       "  <thead>\n",
       "    <tr style=\"text-align: right;\">\n",
       "      <th></th>\n",
       "      <th>continent</th>\n",
       "      <th>totFunding</th>\n",
       "      <th>bioFunding</th>\n",
       "    </tr>\n",
       "  </thead>\n",
       "  <tbody>\n",
       "    <tr>\n",
       "      <th>0</th>\n",
       "      <td>Africa</td>\n",
       "      <td>374.84</td>\n",
       "      <td>0.01</td>\n",
       "    </tr>\n",
       "    <tr>\n",
       "      <th>1</th>\n",
       "      <td>Asia</td>\n",
       "      <td>6507.49</td>\n",
       "      <td>1565.11</td>\n",
       "    </tr>\n",
       "    <tr>\n",
       "      <th>2</th>\n",
       "      <td>Australia</td>\n",
       "      <td>266.23</td>\n",
       "      <td>71.32</td>\n",
       "    </tr>\n",
       "    <tr>\n",
       "      <th>3</th>\n",
       "      <td>Europe</td>\n",
       "      <td>4616.13</td>\n",
       "      <td>1749.56</td>\n",
       "    </tr>\n",
       "    <tr>\n",
       "      <th>4</th>\n",
       "      <td>North America</td>\n",
       "      <td>25849.85</td>\n",
       "      <td>13771.52</td>\n",
       "    </tr>\n",
       "    <tr>\n",
       "      <th>5</th>\n",
       "      <td>South America</td>\n",
       "      <td>908.12</td>\n",
       "      <td>537.66</td>\n",
       "    </tr>\n",
       "  </tbody>\n",
       "</table>\n",
       "</div>"
      ],
      "text/plain": [
       "       continent  totFunding  bioFunding\n",
       "0         Africa      374.84        0.01\n",
       "1           Asia     6507.49     1565.11\n",
       "2      Australia      266.23       71.32\n",
       "3         Europe     4616.13     1749.56\n",
       "4  North America    25849.85    13771.52\n",
       "5  South America      908.12      537.66"
      ]
     },
     "execution_count": 96,
     "metadata": {},
     "output_type": "execute_result"
    }
   ],
   "source": [
    "new = new.rename(columns={'funding_y': 'bioFunding'})\n",
    "new = new.rename(columns={'funding_x': 'totFunding'})\n",
    "new"
   ]
  },
  {
   "cell_type": "code",
   "execution_count": 99,
   "id": "9a131500",
   "metadata": {},
   "outputs": [],
   "source": [
    "new['pct_bioFunding'] = new['bioFunding'] / new['totFunding'] * 100\n",
    "new.to_csv('bioFundingCont.csv')"
   ]
  }
 ],
 "metadata": {
  "kernelspec": {
   "display_name": "Python 3 (ipykernel)",
   "language": "python",
   "name": "python3"
  },
  "language_info": {
   "codemirror_mode": {
    "name": "ipython",
    "version": 3
   },
   "file_extension": ".py",
   "mimetype": "text/x-python",
   "name": "python",
   "nbconvert_exporter": "python",
   "pygments_lexer": "ipython3",
   "version": "3.9.7"
  }
 },
 "nbformat": 4,
 "nbformat_minor": 5
}
